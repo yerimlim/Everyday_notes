{
 "cells": [
  {
   "cell_type": "code",
   "execution_count": 4,
   "metadata": {},
   "outputs": [],
   "source": [
    "# 2018자료 ------------------------------------------------------------------\n",
    "\n",
    "library(readr)"
   ]
  },
  {
   "cell_type": "code",
   "execution_count": 6,
   "metadata": {},
   "outputs": [
    {
     "name": "stderr",
     "output_type": "stream",
     "text": [
      "Parsed with column specification:\n",
      "cols(\n",
      "  CLNT_ID = col_character(),\n",
      "  SESS_ID = col_character(),\n",
      "  HITS_SEQ = col_integer(),\n",
      "  PD_C = col_character(),\n",
      "  PD_ADD_NM = col_character(),\n",
      "  PD_BRA_NM = col_character(),\n",
      "  PD_BUY_AM = col_number(),\n",
      "  PD_BUY_CT = col_integer()\n",
      ")\n",
      "Warning message in rbind(names(probs), probs_f):\n",
      "\"number of columns of result is not a multiple of vector length (arg 1)\"Warning message:\n",
      "\"2 parsing failures.\n",
      "row # A tibble: 2 x 5 col     row       col               expected actual expected   <int>     <chr>                  <chr>  <chr> actual 1 29650 PD_BUY_CT no trailing characters   ,440 file 2 34106 PD_BUY_CT no trailing characters   ,387 row # ... with 1 more variables: file <chr>\n",
      "\""
     ]
    }
   ],
   "source": [
    "products <- read_csv(\"E:/Dropbox/2017/06.job_recruitment/13.programming/05.Lpoint/data/2018/01.Pruduct.csv\",\n",
    "  locale = locale()\n",
    ")"
   ]
  },
  {
   "cell_type": "code",
   "execution_count": 9,
   "metadata": {},
   "outputs": [
    {
     "data": {
      "text/html": [
       "<table>\n",
       "<thead><tr><th scope=col>CLNT_ID</th><th scope=col>SESS_ID</th><th scope=col>HITS_SEQ</th><th scope=col>PD_C</th><th scope=col>PD_ADD_NM</th><th scope=col>PD_BRA_NM</th><th scope=col>PD_BUY_AM</th><th scope=col>PD_BUY_CT</th></tr></thead>\n",
       "<tbody>\n",
       "\t<tr><td>4139680                               </td><td>07605037                              </td><td>12                                    </td><td>642112                                </td><td>색상:워터멜론                         </td><td>[바비브라운]                          </td><td>39000                                 </td><td>1                                     </td></tr>\n",
       "\t<tr><td>4140076                               </td><td>10189797                              </td><td>13                                    </td><td>570603                                </td><td>색상:BLK0_(BLK0)BLACK|사이즈:120 / 2개</td><td>데상트                                </td><td>39000                                 </td><td>2                                     </td></tr>\n",
       "\t<tr><td>4142395                               </td><td>06158159                              </td><td>85                                    </td><td>179538                                </td><td>(not set)                             </td><td>[아베다]                              </td><td>39000                                 </td><td>1                                     </td></tr>\n",
       "\t<tr><td>4144914                               </td><td>07935714                              </td><td>12                                    </td><td>554336                                </td><td>색상:블랙|사이즈:160cm(12~13세) / 1개 </td><td>아디다스 키즈                         </td><td>39000                                 </td><td>1                                     </td></tr>\n",
       "\t<tr><td>4144917                               </td><td>06406509                              </td><td>78                                    </td><td>190306                                </td><td>5개                                   </td><td>데코르테                              </td><td>39000                                 </td><td>5                                     </td></tr>\n",
       "\t<tr><td>4147643                               </td><td>04050743                              </td><td>66                                    </td><td>149995                                </td><td>사이즈:옵션04.AN868_04 / 1개          </td><td>앵글로매니아                          </td><td>39000                                 </td><td>1                                     </td></tr>\n",
       "</tbody>\n",
       "</table>\n"
      ],
      "text/latex": [
       "\\begin{tabular}{r|llllllll}\n",
       " CLNT\\_ID & SESS\\_ID & HITS\\_SEQ & PD\\_C & PD\\_ADD\\_NM & PD\\_BRA\\_NM & PD\\_BUY\\_AM & PD\\_BUY\\_CT\\\\\n",
       "\\hline\n",
       "\t 4139680                                & 07605037                               & 12                                     & 642112                                 & 색상:워터멜론                          & {[}바비브라운{]}                       & 39000                                  & 1                                     \\\\\n",
       "\t 4140076                                            & 10189797                                           & 13                                                 & 570603                                             & 색상:BLK0\\_(BLK0)BLACK\\textbar{}사이즈:120 / 2개 & 데상트                                             & 39000                                              & 2                                                 \\\\\n",
       "\t 4142395                                & 06158159                               & 85                                     & 179538                                 & (not set)                              & {[}아베다{]}                           & 39000                                  & 1                                     \\\\\n",
       "\t 4144914                                                           & 07935714                                                          & 12                                                                & 554336                                                            & 색상:블랙\\textbar{}사이즈:160cm(12\\textasciitilde{}13세) / 1개  & 아디다스 키즈                                                     & 39000                                                             & 1                                                                \\\\\n",
       "\t 4144917                                & 06406509                               & 78                                     & 190306                                 & 5개                                    & 데코르테                               & 39000                                  & 5                                     \\\\\n",
       "\t 4147643                                  & 04050743                                 & 66                                       & 149995                                   & 사이즈:옵션04.AN868\\_04 / 1개           & 앵글로매니아                             & 39000                                    & 1                                       \\\\\n",
       "\\end{tabular}\n"
      ],
      "text/markdown": [
       "\n",
       "CLNT_ID | SESS_ID | HITS_SEQ | PD_C | PD_ADD_NM | PD_BRA_NM | PD_BUY_AM | PD_BUY_CT | \n",
       "|---|---|---|---|---|---|\n",
       "| 4139680                                | 07605037                               | 12                                     | 642112                                 | 색상:워터멜론                          | [바비브라운]                           | 39000                                  | 1                                      | \n",
       "| 4140076                                | 10189797                               | 13                                     | 570603                                 | 색상:BLK0_(BLK0)BLACK|사이즈:120 / 2개 | 데상트                                 | 39000                                  | 2                                      | \n",
       "| 4142395                                | 06158159                               | 85                                     | 179538                                 | (not set)                              | [아베다]                               | 39000                                  | 1                                      | \n",
       "| 4144914                                | 07935714                               | 12                                     | 554336                                 | 색상:블랙|사이즈:160cm(12~13세) / 1개  | 아디다스 키즈                          | 39000                                  | 1                                      | \n",
       "| 4144917                                | 06406509                               | 78                                     | 190306                                 | 5개                                    | 데코르테                               | 39000                                  | 5                                      | \n",
       "| 4147643                                | 04050743                               | 66                                     | 149995                                 | 사이즈:옵션04.AN868_04 / 1개           | 앵글로매니아                           | 39000                                  | 1                                      | \n",
       "\n",
       "\n"
      ],
      "text/plain": [
       "  CLNT_ID SESS_ID  HITS_SEQ PD_C   PD_ADD_NM                             \n",
       "1 4139680 07605037 12       642112 색상:워터멜론                         \n",
       "2 4140076 10189797 13       570603 색상:BLK0_(BLK0)BLACK|사이즈:120 / 2개\n",
       "3 4142395 06158159 85       179538 (not set)                             \n",
       "4 4144914 07935714 12       554336 색상:블랙|사이즈:160cm(12~13세) / 1개 \n",
       "5 4144917 06406509 78       190306 5개                                   \n",
       "6 4147643 04050743 66       149995 사이즈:옵션04.AN868_04 / 1개          \n",
       "  PD_BRA_NM     PD_BUY_AM PD_BUY_CT\n",
       "1 [바비브라운]  39000     1        \n",
       "2 데상트        39000     2        \n",
       "3 [아베다]      39000     1        \n",
       "4 아디다스 키즈 39000     1        \n",
       "5 데코르테      39000     5        \n",
       "6 앵글로매니아  39000     1        "
      ]
     },
     "metadata": {},
     "output_type": "display_data"
    }
   ],
   "source": [
    "head(products)"
   ]
  },
  {
   "cell_type": "code",
   "execution_count": 10,
   "metadata": {},
   "outputs": [
    {
     "name": "stderr",
     "output_type": "stream",
     "text": [
      "Parsed with column specification:\n",
      "cols(\n",
      "  CLNT_ID = col_integer(),\n",
      "  SESS_ID = col_character(),\n",
      "  KWD_NM = col_character(),\n",
      "  SEARCH_CNT = col_integer()\n",
      ")\n"
     ]
    }
   ],
   "source": [
    "search1 <- read_csv(\"E:/Dropbox/2017/06.job_recruitment/13.programming/05.Lpoint/data/2018/02.Search1.csv\",\n",
    "  locale = locale()\n",
    ")\n",
    "# search2 <- read_csv(\"E:/Dropbox/2017/06.job_recruitment/13.programming/05.Lpoint/data/2018/03.Search2.csv\",\n",
    "#   locale = locale()\n",
    "# )"
   ]
  },
  {
   "cell_type": "code",
   "execution_count": 11,
   "metadata": {},
   "outputs": [
    {
     "data": {
      "text/html": [
       "<table>\n",
       "<thead><tr><th scope=col>CLNT_ID</th><th scope=col>SESS_ID</th><th scope=col>KWD_NM</th><th scope=col>SEARCH_CNT</th></tr></thead>\n",
       "<tbody>\n",
       "\t<tr><td>5607714           </td><td>07112876          </td><td>빌리프 아이크림   </td><td>6                 </td></tr>\n",
       "\t<tr><td>5607714           </td><td>04090791          </td><td>프리메라 마스크팩 </td><td>3                 </td></tr>\n",
       "\t<tr><td>5607714           </td><td>04090791          </td><td>여성청결제        </td><td>1                 </td></tr>\n",
       "\t<tr><td>5612428           </td><td>01876482          </td><td>명품가방          </td><td>1                 </td></tr>\n",
       "\t<tr><td>5612428           </td><td>00658123          </td><td>콩순이 아이스크림 </td><td>1                 </td></tr>\n",
       "\t<tr><td>5612428           </td><td>01876482          </td><td>블루독 티셔츠 남아</td><td>1                 </td></tr>\n",
       "</tbody>\n",
       "</table>\n"
      ],
      "text/latex": [
       "\\begin{tabular}{r|llll}\n",
       " CLNT\\_ID & SESS\\_ID & KWD\\_NM & SEARCH\\_CNT\\\\\n",
       "\\hline\n",
       "\t 5607714            & 07112876           & 빌리프 아이크림    & 6                 \\\\\n",
       "\t 5607714            & 04090791           & 프리메라 마스크팩  & 3                 \\\\\n",
       "\t 5607714            & 04090791           & 여성청결제         & 1                 \\\\\n",
       "\t 5612428            & 01876482           & 명품가방           & 1                 \\\\\n",
       "\t 5612428            & 00658123           & 콩순이 아이스크림  & 1                 \\\\\n",
       "\t 5612428            & 01876482           & 블루독 티셔츠 남아 & 1                 \\\\\n",
       "\\end{tabular}\n"
      ],
      "text/markdown": [
       "\n",
       "CLNT_ID | SESS_ID | KWD_NM | SEARCH_CNT | \n",
       "|---|---|---|---|---|---|\n",
       "| 5607714            | 07112876           | 빌리프 아이크림    | 6                  | \n",
       "| 5607714            | 04090791           | 프리메라 마스크팩  | 3                  | \n",
       "| 5607714            | 04090791           | 여성청결제         | 1                  | \n",
       "| 5612428            | 01876482           | 명품가방           | 1                  | \n",
       "| 5612428            | 00658123           | 콩순이 아이스크림  | 1                  | \n",
       "| 5612428            | 01876482           | 블루독 티셔츠 남아 | 1                  | \n",
       "\n",
       "\n"
      ],
      "text/plain": [
       "  CLNT_ID SESS_ID  KWD_NM             SEARCH_CNT\n",
       "1 5607714 07112876 빌리프 아이크림    6         \n",
       "2 5607714 04090791 프리메라 마스크팩  3         \n",
       "3 5607714 04090791 여성청결제         1         \n",
       "4 5612428 01876482 명품가방           1         \n",
       "5 5612428 00658123 콩순이 아이스크림  1         \n",
       "6 5612428 01876482 블루독 티셔츠 남아 1         "
      ]
     },
     "metadata": {},
     "output_type": "display_data"
    }
   ],
   "source": [
    "head(search1)"
   ]
  },
  {
   "cell_type": "code",
   "execution_count": 12,
   "metadata": {},
   "outputs": [
    {
     "name": "stderr",
     "output_type": "stream",
     "text": [
      "Parsed with column specification:\n",
      "cols(\n",
      "  CLNT_ID = col_character(),\n",
      "  CLNT_GENDER = col_character(),\n",
      "  CLNT_AGE = col_integer()\n",
      ")\n"
     ]
    },
    {
     "data": {
      "text/html": [
       "<table>\n",
       "<thead><tr><th scope=col>CLNT_ID</th><th scope=col>CLNT_GENDER</th><th scope=col>CLNT_AGE</th></tr></thead>\n",
       "<tbody>\n",
       "\t<tr><td>4830726</td><td>F      </td><td>30     </td></tr>\n",
       "\t<tr><td>4830874</td><td>F      </td><td>40     </td></tr>\n",
       "\t<tr><td>4830975</td><td>F      </td><td>30     </td></tr>\n",
       "\t<tr><td>4831275</td><td>F      </td><td>30     </td></tr>\n",
       "\t<tr><td>4825325</td><td>F      </td><td>30     </td></tr>\n",
       "\t<tr><td>4825382</td><td>F      </td><td>40     </td></tr>\n",
       "</tbody>\n",
       "</table>\n"
      ],
      "text/latex": [
       "\\begin{tabular}{r|lll}\n",
       " CLNT\\_ID & CLNT\\_GENDER & CLNT\\_AGE\\\\\n",
       "\\hline\n",
       "\t 4830726 & F       & 30     \\\\\n",
       "\t 4830874 & F       & 40     \\\\\n",
       "\t 4830975 & F       & 30     \\\\\n",
       "\t 4831275 & F       & 30     \\\\\n",
       "\t 4825325 & F       & 30     \\\\\n",
       "\t 4825382 & F       & 40     \\\\\n",
       "\\end{tabular}\n"
      ],
      "text/markdown": [
       "\n",
       "CLNT_ID | CLNT_GENDER | CLNT_AGE | \n",
       "|---|---|---|---|---|---|\n",
       "| 4830726 | F       | 30      | \n",
       "| 4830874 | F       | 40      | \n",
       "| 4830975 | F       | 30      | \n",
       "| 4831275 | F       | 30      | \n",
       "| 4825325 | F       | 30      | \n",
       "| 4825382 | F       | 40      | \n",
       "\n",
       "\n"
      ],
      "text/plain": [
       "  CLNT_ID CLNT_GENDER CLNT_AGE\n",
       "1 4830726 F           30      \n",
       "2 4830874 F           40      \n",
       "3 4830975 F           30      \n",
       "4 4831275 F           30      \n",
       "5 4825325 F           30      \n",
       "6 4825382 F           40      "
      ]
     },
     "metadata": {},
     "output_type": "display_data"
    }
   ],
   "source": [
    "custom <- read_csv(\"E:/Dropbox/2017/06.job_recruitment/13.programming/05.Lpoint/data/2018/04.Custom.csv\",\n",
    "  locale = locale()\n",
    ")\n",
    "\n",
    "head(custom)"
   ]
  },
  {
   "cell_type": "code",
   "execution_count": null,
   "metadata": {},
   "outputs": [],
   "source": [
    "session <- read_csv(\"E:/Dropbox/2017/06.job_recruitment/13.programming/05.Lpoint/data/2018/05.Session.csv\",\n",
    "  locale = locale()\n",
    ")"
   ]
  },
  {
   "cell_type": "code",
   "execution_count": 7,
   "metadata": {},
   "outputs": [
    {
     "name": "stderr",
     "output_type": "stream",
     "text": [
      "Parsed with column specification:\n",
      "cols(\n",
      "  PD_C = col_character(),\n",
      "  PD_NM = col_character(),\n",
      "  CLAC1_NM = col_character(),\n",
      "  CLAC2_NM = col_character(),\n",
      "  CLAC3_NM = col_character()\n",
      ")\n",
      "Warning message in rbind(names(probs), probs_f):\n",
      "\"number of columns of result is not a multiple of vector length (arg 1)\"Warning message:\n",
      "\"54 parsing failures.\n",
      "row # A tibble: 5 x 5 col     row   col           expected    actual expected   <int> <chr>              <chr>     <chr> actual 1 14802 PD_NM delimiter or quote           file 2 14802 PD_NM delimiter or quote         1 row 3 14802  <NA>          5 columns 6 columns col 4 28743 PD_NM delimiter or quote           expected 5 28743 PD_NM delimiter or quote         1 actual # ... with 1 more variables: file <chr>\n",
      "... ................. ... .......................................... ........ .......................................... ...... .......................................... .... .......................................... ... .......................................... ... .......................................... ........ .......................................... ...... .......................................\n",
      "See problems(...) for more details.\n",
      "\""
     ]
    }
   ],
   "source": [
    "master <- read_csv(\"E:/Dropbox/2017/06.job_recruitment/13.programming/05.Lpoint/data/2018/06.Master.csv\",\n",
    "  locale = locale()\n",
    ")"
   ]
  },
  {
   "cell_type": "code",
   "execution_count": 8,
   "metadata": {},
   "outputs": [
    {
     "data": {
      "text/html": [
       "<table>\n",
       "<thead><tr><th scope=col>PD_C</th><th scope=col>PD_NM</th><th scope=col>CLAC1_NM</th><th scope=col>CLAC2_NM</th><th scope=col>CLAC3_NM</th></tr></thead>\n",
       "<tbody>\n",
       "\t<tr><td>064382                                                                     </td><td>언더아머 남성 UA HG 아머 모크 LS 1289559-001 - 블랙 / MD[95]               </td><td>스포츠패션                                                                 </td><td>남성일반스포츠의류                                                         </td><td>남성스포츠티셔츠                                                           </td></tr>\n",
       "\t<tr><td>062282                                                                     </td><td>여자 플라워덧신 2족선물세트 17403-2set                                     </td><td>속옷/양말/홈웨어                                                           </td><td>여성양말류                                                                 </td><td>여성일반양말                                                               </td></tr>\n",
       "\t<tr><td>061729                                                                     </td><td>88A2933253배트맨스웨트티 - 블랙 / 130                                      </td><td>유아동의류                                                                 </td><td>유아의류상의                                                               </td><td>영유아티셔츠/탑                                                            </td></tr>\n",
       "\t<tr><td>061537                                                                     </td><td>닥터마틴 아드리안 블랙, 체리레드 - 02_체리레드 / 250mm(6)                  </td><td>패션잡화                                                                   </td><td>남성화                                                                     </td><td>남성부츠                                                                   </td></tr>\n",
       "\t<tr><td>058820                                                                     </td><td>여성 그레이 스트라이프 퍼프 소매 블라우스 (128865YQ33) - 회색(앤틱실버) / S</td><td>남성의류                                                                   </td><td>남성의류상의                                                               </td><td>남성남방셔츠                                                               </td></tr>\n",
       "\t<tr><td>058280                                                                     </td><td>선염스트라이프레이스패치원피스 JROP521D - 블루 / 85                        </td><td>여성의류                                                                   </td><td>여성의류전신                                                               </td><td>여성원피스                                                                 </td></tr>\n",
       "</tbody>\n",
       "</table>\n"
      ],
      "text/latex": [
       "\\begin{tabular}{r|lllll}\n",
       " PD\\_C & PD\\_NM & CLAC1\\_NM & CLAC2\\_NM & CLAC3\\_NM\\\\\n",
       "\\hline\n",
       "\t 064382                                                                          & 언더아머 남성 UA HG 아머 모크 LS 1289559-001 - 블랙 / MD{[}95{]}                & 스포츠패션                                                                      & 남성일반스포츠의류                                                              & 남성스포츠티셔츠                                                               \\\\\n",
       "\t 062282                                                                      & 여자 플라워덧신 2족선물세트 17403-2set                                      & 속옷/양말/홈웨어                                                            & 여성양말류                                                                  & 여성일반양말                                                               \\\\\n",
       "\t 061729                                                                      & 88A2933253배트맨스웨트티 - 블랙 / 130                                       & 유아동의류                                                                  & 유아의류상의                                                                & 영유아티셔츠/탑                                                            \\\\\n",
       "\t 061537                                                                        & 닥터마틴 아드리안 블랙, 체리레드 - 02\\_체리레드 / 250mm(6)                   & 패션잡화                                                                      & 남성화                                                                        & 남성부츠                                                                     \\\\\n",
       "\t 058820                                                                      & 여성 그레이 스트라이프 퍼프 소매 블라우스 (128865YQ33) - 회색(앤틱실버) / S & 남성의류                                                                    & 남성의류상의                                                                & 남성남방셔츠                                                               \\\\\n",
       "\t 058280                                                                      & 선염스트라이프레이스패치원피스 JROP521D - 블루 / 85                         & 여성의류                                                                    & 여성의류전신                                                                & 여성원피스                                                                 \\\\\n",
       "\\end{tabular}\n"
      ],
      "text/markdown": [
       "\n",
       "PD_C | PD_NM | CLAC1_NM | CLAC2_NM | CLAC3_NM | \n",
       "|---|---|---|---|---|---|\n",
       "| 064382                                                                      | 언더아머 남성 UA HG 아머 모크 LS 1289559-001 - 블랙 / MD[95]                | 스포츠패션                                                                  | 남성일반스포츠의류                                                          | 남성스포츠티셔츠                                                            | \n",
       "| 062282                                                                      | 여자 플라워덧신 2족선물세트 17403-2set                                      | 속옷/양말/홈웨어                                                            | 여성양말류                                                                  | 여성일반양말                                                                | \n",
       "| 061729                                                                      | 88A2933253배트맨스웨트티 - 블랙 / 130                                       | 유아동의류                                                                  | 유아의류상의                                                                | 영유아티셔츠/탑                                                             | \n",
       "| 061537                                                                      | 닥터마틴 아드리안 블랙, 체리레드 - 02_체리레드 / 250mm(6)                   | 패션잡화                                                                    | 남성화                                                                      | 남성부츠                                                                    | \n",
       "| 058820                                                                      | 여성 그레이 스트라이프 퍼프 소매 블라우스 (128865YQ33) - 회색(앤틱실버) / S | 남성의류                                                                    | 남성의류상의                                                                | 남성남방셔츠                                                                | \n",
       "| 058280                                                                      | 선염스트라이프레이스패치원피스 JROP521D - 블루 / 85                         | 여성의류                                                                    | 여성의류전신                                                                | 여성원피스                                                                  | \n",
       "\n",
       "\n"
      ],
      "text/plain": [
       "  PD_C  \n",
       "1 064382\n",
       "2 062282\n",
       "3 061729\n",
       "4 061537\n",
       "5 058820\n",
       "6 058280\n",
       "  PD_NM                                                                      \n",
       "1 언더아머 남성 UA HG 아머 모크 LS 1289559-001 - 블랙 / MD[95]               \n",
       "2 여자 플라워덧신 2족선물세트 17403-2set                                     \n",
       "3 88A2933253배트맨스웨트티 - 블랙 / 130                                      \n",
       "4 닥터마틴 아드리안 블랙, 체리레드 - 02_체리레드 / 250mm(6)                  \n",
       "5 여성 그레이 스트라이프 퍼프 소매 블라우스 (128865YQ33) - 회색(앤틱실버) / S\n",
       "6 선염스트라이프레이스패치원피스 JROP521D - 블루 / 85                        \n",
       "  CLAC1_NM         CLAC2_NM           CLAC3_NM        \n",
       "1 스포츠패션       남성일반스포츠의류 남성스포츠티셔츠\n",
       "2 속옷/양말/홈웨어 여성양말류         여성일반양말    \n",
       "3 유아동의류       유아의류상의       영유아티셔츠/탑 \n",
       "4 패션잡화         남성화             남성부츠        \n",
       "5 남성의류         남성의류상의       남성남방셔츠    \n",
       "6 여성의류         여성의류전신       여성원피스      "
      ]
     },
     "metadata": {},
     "output_type": "display_data"
    }
   ],
   "source": [
    "head(master)"
   ]
  },
  {
   "cell_type": "code",
   "execution_count": 13,
   "metadata": {},
   "outputs": [
    {
     "data": {
      "text/html": [
       "<ol class=list-inline>\n",
       "\t<li>671679</li>\n",
       "\t<li>3</li>\n",
       "</ol>\n"
      ],
      "text/latex": [
       "\\begin{enumerate*}\n",
       "\\item 671679\n",
       "\\item 3\n",
       "\\end{enumerate*}\n"
      ],
      "text/markdown": [
       "1. 671679\n",
       "2. 3\n",
       "\n",
       "\n"
      ],
      "text/plain": [
       "[1] 671679      3"
      ]
     },
     "metadata": {},
     "output_type": "display_data"
    }
   ],
   "source": [
    "# custom테이블 살펴보기 ----------------------------------------------------------\n",
    "\n",
    "dim(custom) # 67만명의 데이터가 있다.  671,679"
   ]
  },
  {
   "cell_type": "code",
   "execution_count": 14,
   "metadata": {},
   "outputs": [
    {
     "data": {
      "text/html": [
       "<ol class=list-inline>\n",
       "\t<li>5024906</li>\n",
       "\t<li>8</li>\n",
       "</ol>\n"
      ],
      "text/latex": [
       "\\begin{enumerate*}\n",
       "\\item 5024906\n",
       "\\item 8\n",
       "\\end{enumerate*}\n"
      ],
      "text/markdown": [
       "1. 5024906\n",
       "2. 8\n",
       "\n",
       "\n"
      ],
      "text/plain": [
       "[1] 5024906       8"
      ]
     },
     "metadata": {},
     "output_type": "display_data"
    },
    {
     "data": {
      "text/html": [
       "<table>\n",
       "<thead><tr><th scope=col>CLNT_ID</th><th scope=col>SESS_ID</th><th scope=col>HITS_SEQ</th><th scope=col>PD_C</th><th scope=col>PD_ADD_NM</th><th scope=col>PD_BRA_NM</th><th scope=col>PD_BUY_AM</th><th scope=col>PD_BUY_CT</th></tr></thead>\n",
       "<tbody>\n",
       "\t<tr><td>4139680                               </td><td>07605037                              </td><td>12                                    </td><td>642112                                </td><td>색상:워터멜론                         </td><td>[바비브라운]                          </td><td>39000                                 </td><td>1                                     </td></tr>\n",
       "\t<tr><td>4140076                               </td><td>10189797                              </td><td>13                                    </td><td>570603                                </td><td>색상:BLK0_(BLK0)BLACK|사이즈:120 / 2개</td><td>데상트                                </td><td>39000                                 </td><td>2                                     </td></tr>\n",
       "\t<tr><td>4142395                               </td><td>06158159                              </td><td>85                                    </td><td>179538                                </td><td>(not set)                             </td><td>[아베다]                              </td><td>39000                                 </td><td>1                                     </td></tr>\n",
       "\t<tr><td>4144914                               </td><td>07935714                              </td><td>12                                    </td><td>554336                                </td><td>색상:블랙|사이즈:160cm(12~13세) / 1개 </td><td>아디다스 키즈                         </td><td>39000                                 </td><td>1                                     </td></tr>\n",
       "\t<tr><td>4144917                               </td><td>06406509                              </td><td>78                                    </td><td>190306                                </td><td>5개                                   </td><td>데코르테                              </td><td>39000                                 </td><td>5                                     </td></tr>\n",
       "\t<tr><td>4147643                               </td><td>04050743                              </td><td>66                                    </td><td>149995                                </td><td>사이즈:옵션04.AN868_04 / 1개          </td><td>앵글로매니아                          </td><td>39000                                 </td><td>1                                     </td></tr>\n",
       "</tbody>\n",
       "</table>\n"
      ],
      "text/latex": [
       "\\begin{tabular}{r|llllllll}\n",
       " CLNT\\_ID & SESS\\_ID & HITS\\_SEQ & PD\\_C & PD\\_ADD\\_NM & PD\\_BRA\\_NM & PD\\_BUY\\_AM & PD\\_BUY\\_CT\\\\\n",
       "\\hline\n",
       "\t 4139680                                & 07605037                               & 12                                     & 642112                                 & 색상:워터멜론                          & {[}바비브라운{]}                       & 39000                                  & 1                                     \\\\\n",
       "\t 4140076                                            & 10189797                                           & 13                                                 & 570603                                             & 색상:BLK0\\_(BLK0)BLACK\\textbar{}사이즈:120 / 2개 & 데상트                                             & 39000                                              & 2                                                 \\\\\n",
       "\t 4142395                                & 06158159                               & 85                                     & 179538                                 & (not set)                              & {[}아베다{]}                           & 39000                                  & 1                                     \\\\\n",
       "\t 4144914                                                           & 07935714                                                          & 12                                                                & 554336                                                            & 색상:블랙\\textbar{}사이즈:160cm(12\\textasciitilde{}13세) / 1개  & 아디다스 키즈                                                     & 39000                                                             & 1                                                                \\\\\n",
       "\t 4144917                                & 06406509                               & 78                                     & 190306                                 & 5개                                    & 데코르테                               & 39000                                  & 5                                     \\\\\n",
       "\t 4147643                                  & 04050743                                 & 66                                       & 149995                                   & 사이즈:옵션04.AN868\\_04 / 1개           & 앵글로매니아                             & 39000                                    & 1                                       \\\\\n",
       "\\end{tabular}\n"
      ],
      "text/markdown": [
       "\n",
       "CLNT_ID | SESS_ID | HITS_SEQ | PD_C | PD_ADD_NM | PD_BRA_NM | PD_BUY_AM | PD_BUY_CT | \n",
       "|---|---|---|---|---|---|\n",
       "| 4139680                                | 07605037                               | 12                                     | 642112                                 | 색상:워터멜론                          | [바비브라운]                           | 39000                                  | 1                                      | \n",
       "| 4140076                                | 10189797                               | 13                                     | 570603                                 | 색상:BLK0_(BLK0)BLACK|사이즈:120 / 2개 | 데상트                                 | 39000                                  | 2                                      | \n",
       "| 4142395                                | 06158159                               | 85                                     | 179538                                 | (not set)                              | [아베다]                               | 39000                                  | 1                                      | \n",
       "| 4144914                                | 07935714                               | 12                                     | 554336                                 | 색상:블랙|사이즈:160cm(12~13세) / 1개  | 아디다스 키즈                          | 39000                                  | 1                                      | \n",
       "| 4144917                                | 06406509                               | 78                                     | 190306                                 | 5개                                    | 데코르테                               | 39000                                  | 5                                      | \n",
       "| 4147643                                | 04050743                               | 66                                     | 149995                                 | 사이즈:옵션04.AN868_04 / 1개           | 앵글로매니아                           | 39000                                  | 1                                      | \n",
       "\n",
       "\n"
      ],
      "text/plain": [
       "  CLNT_ID SESS_ID  HITS_SEQ PD_C   PD_ADD_NM                             \n",
       "1 4139680 07605037 12       642112 색상:워터멜론                         \n",
       "2 4140076 10189797 13       570603 색상:BLK0_(BLK0)BLACK|사이즈:120 / 2개\n",
       "3 4142395 06158159 85       179538 (not set)                             \n",
       "4 4144914 07935714 12       554336 색상:블랙|사이즈:160cm(12~13세) / 1개 \n",
       "5 4144917 06406509 78       190306 5개                                   \n",
       "6 4147643 04050743 66       149995 사이즈:옵션04.AN868_04 / 1개          \n",
       "  PD_BRA_NM     PD_BUY_AM PD_BUY_CT\n",
       "1 [바비브라운]  39000     1        \n",
       "2 데상트        39000     2        \n",
       "3 [아베다]      39000     1        \n",
       "4 아디다스 키즈 39000     1        \n",
       "5 데코르테      39000     5        \n",
       "6 앵글로매니아  39000     1        "
      ]
     },
     "metadata": {},
     "output_type": "display_data"
    }
   ],
   "source": [
    "# producst테이블 살펴보기 --------------------------------------------------------\n",
    "\n",
    "dim(products) # 500만건\n",
    "str(products)\n",
    "head(products)\n",
    "\n",
    "products$SESS_ID <- sprintf(\"%08d\", as.integer(products$SESS_ID)) #\n",
    "\n",
    "# tmp <- products[order(products$HITS_SEQ), ] # hits sequence에 따라 정렬\n",
    "# tmp[order(tmp$SESS_ID), ]"
   ]
  },
  {
   "cell_type": "code",
   "execution_count": 15,
   "metadata": {},
   "outputs": [
    {
     "data": {
      "text/html": [
       "0.482772414051129"
      ],
      "text/latex": [
       "0.482772414051129"
      ],
      "text/markdown": [
       "0.482772414051129"
      ],
      "text/plain": [
       "[1] 0.4827724"
      ]
     },
     "metadata": {},
     "output_type": "display_data"
    }
   ],
   "source": [
    "# 똑같은 세션 아이디는 몇개일까.\n",
    "length(unique(products$SESS_ID)) / nrow(products) # 고유한 세션 아이디가 전체의 48프로. 52프로는 반복된 세션이라는 말..."
   ]
  },
  {
   "cell_type": "code",
   "execution_count": 16,
   "metadata": {},
   "outputs": [
    {
     "data": {
      "text/html": [
       "<table>\n",
       "<thead><tr><th scope=col>PD_C</th><th scope=col>PD_NM</th><th scope=col>CLAC1_NM</th><th scope=col>CLAC2_NM</th><th scope=col>CLAC3_NM</th></tr></thead>\n",
       "<tbody>\n",
       "\t<tr><td>064382                                                                     </td><td>언더아머 남성 UA HG 아머 모크 LS 1289559-001 - 블랙 / MD[95]               </td><td>스포츠패션                                                                 </td><td>남성일반스포츠의류                                                         </td><td>남성스포츠티셔츠                                                           </td></tr>\n",
       "\t<tr><td>062282                                                                     </td><td>여자 플라워덧신 2족선물세트 17403-2set                                     </td><td>속옷/양말/홈웨어                                                           </td><td>여성양말류                                                                 </td><td>여성일반양말                                                               </td></tr>\n",
       "\t<tr><td>061729                                                                     </td><td>88A2933253배트맨스웨트티 - 블랙 / 130                                      </td><td>유아동의류                                                                 </td><td>유아의류상의                                                               </td><td>영유아티셔츠/탑                                                            </td></tr>\n",
       "\t<tr><td>061537                                                                     </td><td>닥터마틴 아드리안 블랙, 체리레드 - 02_체리레드 / 250mm(6)                  </td><td>패션잡화                                                                   </td><td>남성화                                                                     </td><td>남성부츠                                                                   </td></tr>\n",
       "\t<tr><td>058820                                                                     </td><td>여성 그레이 스트라이프 퍼프 소매 블라우스 (128865YQ33) - 회색(앤틱실버) / S</td><td>남성의류                                                                   </td><td>남성의류상의                                                               </td><td>남성남방셔츠                                                               </td></tr>\n",
       "\t<tr><td>058280                                                                     </td><td>선염스트라이프레이스패치원피스 JROP521D - 블루 / 85                        </td><td>여성의류                                                                   </td><td>여성의류전신                                                               </td><td>여성원피스                                                                 </td></tr>\n",
       "</tbody>\n",
       "</table>\n"
      ],
      "text/latex": [
       "\\begin{tabular}{r|lllll}\n",
       " PD\\_C & PD\\_NM & CLAC1\\_NM & CLAC2\\_NM & CLAC3\\_NM\\\\\n",
       "\\hline\n",
       "\t 064382                                                                          & 언더아머 남성 UA HG 아머 모크 LS 1289559-001 - 블랙 / MD{[}95{]}                & 스포츠패션                                                                      & 남성일반스포츠의류                                                              & 남성스포츠티셔츠                                                               \\\\\n",
       "\t 062282                                                                      & 여자 플라워덧신 2족선물세트 17403-2set                                      & 속옷/양말/홈웨어                                                            & 여성양말류                                                                  & 여성일반양말                                                               \\\\\n",
       "\t 061729                                                                      & 88A2933253배트맨스웨트티 - 블랙 / 130                                       & 유아동의류                                                                  & 유아의류상의                                                                & 영유아티셔츠/탑                                                            \\\\\n",
       "\t 061537                                                                        & 닥터마틴 아드리안 블랙, 체리레드 - 02\\_체리레드 / 250mm(6)                   & 패션잡화                                                                      & 남성화                                                                        & 남성부츠                                                                     \\\\\n",
       "\t 058820                                                                      & 여성 그레이 스트라이프 퍼프 소매 블라우스 (128865YQ33) - 회색(앤틱실버) / S & 남성의류                                                                    & 남성의류상의                                                                & 남성남방셔츠                                                               \\\\\n",
       "\t 058280                                                                      & 선염스트라이프레이스패치원피스 JROP521D - 블루 / 85                         & 여성의류                                                                    & 여성의류전신                                                                & 여성원피스                                                                 \\\\\n",
       "\\end{tabular}\n"
      ],
      "text/markdown": [
       "\n",
       "PD_C | PD_NM | CLAC1_NM | CLAC2_NM | CLAC3_NM | \n",
       "|---|---|---|---|---|---|\n",
       "| 064382                                                                      | 언더아머 남성 UA HG 아머 모크 LS 1289559-001 - 블랙 / MD[95]                | 스포츠패션                                                                  | 남성일반스포츠의류                                                          | 남성스포츠티셔츠                                                            | \n",
       "| 062282                                                                      | 여자 플라워덧신 2족선물세트 17403-2set                                      | 속옷/양말/홈웨어                                                            | 여성양말류                                                                  | 여성일반양말                                                                | \n",
       "| 061729                                                                      | 88A2933253배트맨스웨트티 - 블랙 / 130                                       | 유아동의류                                                                  | 유아의류상의                                                                | 영유아티셔츠/탑                                                             | \n",
       "| 061537                                                                      | 닥터마틴 아드리안 블랙, 체리레드 - 02_체리레드 / 250mm(6)                   | 패션잡화                                                                    | 남성화                                                                      | 남성부츠                                                                    | \n",
       "| 058820                                                                      | 여성 그레이 스트라이프 퍼프 소매 블라우스 (128865YQ33) - 회색(앤틱실버) / S | 남성의류                                                                    | 남성의류상의                                                                | 남성남방셔츠                                                                | \n",
       "| 058280                                                                      | 선염스트라이프레이스패치원피스 JROP521D - 블루 / 85                         | 여성의류                                                                    | 여성의류전신                                                                | 여성원피스                                                                  | \n",
       "\n",
       "\n"
      ],
      "text/plain": [
       "  PD_C  \n",
       "1 064382\n",
       "2 062282\n",
       "3 061729\n",
       "4 061537\n",
       "5 058820\n",
       "6 058280\n",
       "  PD_NM                                                                      \n",
       "1 언더아머 남성 UA HG 아머 모크 LS 1289559-001 - 블랙 / MD[95]               \n",
       "2 여자 플라워덧신 2족선물세트 17403-2set                                     \n",
       "3 88A2933253배트맨스웨트티 - 블랙 / 130                                      \n",
       "4 닥터마틴 아드리안 블랙, 체리레드 - 02_체리레드 / 250mm(6)                  \n",
       "5 여성 그레이 스트라이프 퍼프 소매 블라우스 (128865YQ33) - 회색(앤틱실버) / S\n",
       "6 선염스트라이프레이스패치원피스 JROP521D - 블루 / 85                        \n",
       "  CLAC1_NM         CLAC2_NM           CLAC3_NM        \n",
       "1 스포츠패션       남성일반스포츠의류 남성스포츠티셔츠\n",
       "2 속옷/양말/홈웨어 여성양말류         여성일반양말    \n",
       "3 유아동의류       유아의류상의       영유아티셔츠/탑 \n",
       "4 패션잡화         남성화             남성부츠        \n",
       "5 남성의류         남성의류상의       남성남방셔츠    \n",
       "6 여성의류         여성의류전신       여성원피스      "
      ]
     },
     "metadata": {},
     "output_type": "display_data"
    }
   ],
   "source": [
    "# master테이블 살펴보기 ----------------------------------------------------------\n",
    "\n",
    "head(master)\n",
    "str(master)"
   ]
  },
  {
   "cell_type": "code",
   "execution_count": null,
   "metadata": {},
   "outputs": [],
   "source": [
    "# search 테이블 살펴보기 ---------------------------------------------------------\n",
    "\n",
    "tmp <- data.frame(\n",
    "  cnt = search1$SEARCH_CNT,\n",
    "  chr = apply(search1, 2, nchar)[, 3]\n",
    ")\n",
    "\n",
    "# 검색량에 따른 검색어 길이 차이가 있는지 살펴보자.\n",
    "tmp$group <- NA\n",
    "tmp[tmp$cnt > 5, ]$group <- \"A\"\n",
    "tmp[tmp$cnt <= 5, ]$group <- \"B\""
   ]
  },
  {
   "cell_type": "code",
   "execution_count": 18,
   "metadata": {},
   "outputs": [
    {
     "data": {
      "text/plain": [
       "\n",
       "\tTwo Sample t-test\n",
       "\n",
       "data:  chr by group\n",
       "t = 19.739, df = 2884900, p-value < 2.2e-16\n",
       "alternative hypothesis: true difference in means is not equal to 0\n",
       "95 percent confidence interval:\n",
       " 0.1138623 0.1389670\n",
       "sample estimates:\n",
       "mean in group A mean in group B \n",
       "       5.614528        5.488113 \n"
      ]
     },
     "metadata": {},
     "output_type": "display_data"
    }
   ],
   "source": [
    "t.test(chr ~ group, data = tmp, var.equal=TRUE)"
   ]
  },
  {
   "cell_type": "code",
   "execution_count": 19,
   "metadata": {},
   "outputs": [
    {
     "data": {},
     "metadata": {},
     "output_type": "display_data"
    },
    {
     "data": {
      "image/png": "[encoded data removed]",
      "text/plain": [
       "plot without title"
      ]
     },
     "metadata": {},
     "output_type": "display_data"
    }
   ],
   "source": [
    "library(ggplot2)\n",
    "ggplot(tmp, aes(chr, col=group)) +\n",
    "  geom_density(adjust=5)"
   ]
  },
  {
   "cell_type": "code",
   "execution_count": null,
   "metadata": {
    "scrolled": true
   },
   "outputs": [
    {
     "name": "stderr",
     "output_type": "stream",
     "text": [
      "Parsed with column specification:\n",
      "cols(\n",
      "  CLNT_ID = col_character(),\n",
      "  SESS_ID = col_character(),\n",
      "  HITS_SEQ = col_integer(),\n",
      "  PD_C = col_character(),\n",
      "  PD_ADD_NM = col_character(),\n",
      "  PD_BRA_NM = col_character(),\n",
      "  PD_BUY_AM = col_number(),\n",
      "  PD_BUY_CT = col_integer()\n",
      ")\n",
      "Warning message in rbind(names(probs), probs_f):\n",
      "\"number of columns of result is not a multiple of vector length (arg 1)\"Warning message:\n",
      "\"2 parsing failures.\n",
      "row # A tibble: 2 x 5 col     row       col               expected actual expected   <int>     <chr>                  <chr>  <chr> actual 1 29650 PD_BUY_CT no trailing characters   ,440 file 2 34106 PD_BUY_CT no trailing characters   ,387 row # ... with 1 more variables: file <chr>\n",
      "\"Parsed with column specification:\n",
      "cols(\n",
      "  CLNT_ID = col_integer(),\n",
      "  SESS_ID = col_character(),\n",
      "  KWD_NM = col_character(),\n",
      "  SEARCH_CNT = col_integer()\n",
      ")\n",
      "Parsed with column specification:\n",
      "cols(\n",
      "  SESS_DT = col_integer(),\n",
      "  KWD_NM = col_character(),\n",
      "  SEARCH_CNT = col_integer()\n",
      ")\n",
      "Warning message in rbind(names(probs), probs_f):\n",
      "\"number of columns of result is not a multiple of vector length (arg 1)\"Warning message:\n",
      "\"606 parsing failures.\n",
      "row # A tibble: 5 x 5 col     row        col               expected actual expected   <int>      <chr>                  <chr>  <chr> actual 1 13174 SEARCH_CNT no trailing characters   ,899 file 2 17951 SEARCH_CNT no trailing characters   ,069 row 3 24743 SEARCH_CNT no trailing characters   ,850 col 4 25527 SEARCH_CNT no trailing characters   ,564 expected 5 83219 SEARCH_CNT no trailing characters   ,560 actual # ... with 1 more variables: file <chr>\n",
      "... ................. ... ................................................ ........ ................................................ ...... ................................................ .... ................................................ ... ................................................ ... ................................................ ........ ................................................ ...... .......................................\n",
      "See problems(...) for more details.\n",
      "\"Parsed with column specification:\n",
      "cols(\n",
      "  CLNT_ID = col_character(),\n",
      "  CLNT_GENDER = col_character(),\n",
      "  CLNT_AGE = col_integer()\n",
      ")\n",
      "Parsed with column specification:\n",
      "cols(\n",
      "  CLNT_ID = col_integer(),\n",
      "  SESS_ID = col_character(),\n",
      "  SESS_SEQ = col_integer(),\n",
      "  SESS_DT = col_integer(),\n",
      "  TOT_PAG_VIEW_CT = col_integer(),\n",
      "  TOT_SESS_HR_V = col_number(),\n",
      "  DVC_CTG_NM = col_character(),\n",
      "  ZON_NM = col_character(),\n",
      "  CITY_NM = col_character()\n",
      ")\n",
      "Parsed with column specification:\n",
      "cols(\n",
      "  PD_C = col_character(),\n",
      "  PD_NM = col_character(),\n",
      "  CLAC1_NM = col_character(),\n",
      "  CLAC2_NM = col_character(),\n",
      "  CLAC3_NM = col_character()\n",
      ")\n",
      "Warning message in rbind(names(probs), probs_f):\n",
      "\"number of columns of result is not a multiple of vector length (arg 1)\"Warning message:\n",
      "\"54 parsing failures.\n",
      "row # A tibble: 5 x 5 col     row   col           expected    actual expected   <int> <chr>              <chr>     <chr> actual 1 14802 PD_NM delimiter or quote           file 2 14802 PD_NM delimiter or quote         1 row 3 14802  <NA>          5 columns 6 columns col 4 28743 PD_NM delimiter or quote           expected 5 28743 PD_NM delimiter or quote         1 actual # ... with 1 more variables: file <chr>\n",
      "... ................. ... .......................................... ........ .......................................... ...... .......................................... .... .......................................... ... .......................................... ... .......................................... ........ .......................................... ...... .......................................\n",
      "See problems(...) for more details.\n",
      "\""
     ]
    },
    {
     "data": {
      "text/html": [
       "<ol class=list-inline>\n",
       "\t<li>671679</li>\n",
       "\t<li>3</li>\n",
       "</ol>\n"
      ],
      "text/latex": [
       "\\begin{enumerate*}\n",
       "\\item 671679\n",
       "\\item 3\n",
       "\\end{enumerate*}\n"
      ],
      "text/markdown": [
       "1. 671679\n",
       "2. 3\n",
       "\n",
       "\n"
      ],
      "text/plain": [
       "[1] 671679      3"
      ]
     },
     "metadata": {},
     "output_type": "display_data"
    },
    {
     "data": {
      "text/html": [
       "<ol class=list-inline>\n",
       "\t<li>5024906</li>\n",
       "\t<li>8</li>\n",
       "</ol>\n"
      ],
      "text/latex": [
       "\\begin{enumerate*}\n",
       "\\item 5024906\n",
       "\\item 8\n",
       "\\end{enumerate*}\n"
      ],
      "text/markdown": [
       "1. 5024906\n",
       "2. 8\n",
       "\n",
       "\n"
      ],
      "text/plain": [
       "[1] 5024906       8"
      ]
     },
     "metadata": {},
     "output_type": "display_data"
    },
    {
     "data": {
      "text/html": [
       "<table>\n",
       "<thead><tr><th scope=col>CLNT_ID</th><th scope=col>SESS_ID</th><th scope=col>HITS_SEQ</th><th scope=col>PD_C</th><th scope=col>PD_ADD_NM</th><th scope=col>PD_BRA_NM</th><th scope=col>PD_BUY_AM</th><th scope=col>PD_BUY_CT</th></tr></thead>\n",
       "<tbody>\n",
       "\t<tr><td>4139680                               </td><td>07605037                              </td><td>12                                    </td><td>642112                                </td><td>색상:워터멜론                         </td><td>[바비브라운]                          </td><td>39000                                 </td><td>1                                     </td></tr>\n",
       "\t<tr><td>4140076                               </td><td>10189797                              </td><td>13                                    </td><td>570603                                </td><td>색상:BLK0_(BLK0)BLACK|사이즈:120 / 2개</td><td>데상트                                </td><td>39000                                 </td><td>2                                     </td></tr>\n",
       "\t<tr><td>4142395                               </td><td>06158159                              </td><td>85                                    </td><td>179538                                </td><td>(not set)                             </td><td>[아베다]                              </td><td>39000                                 </td><td>1                                     </td></tr>\n",
       "\t<tr><td>4144914                               </td><td>07935714                              </td><td>12                                    </td><td>554336                                </td><td>색상:블랙|사이즈:160cm(12~13세) / 1개 </td><td>아디다스 키즈                         </td><td>39000                                 </td><td>1                                     </td></tr>\n",
       "\t<tr><td>4144917                               </td><td>06406509                              </td><td>78                                    </td><td>190306                                </td><td>5개                                   </td><td>데코르테                              </td><td>39000                                 </td><td>5                                     </td></tr>\n",
       "\t<tr><td>4147643                               </td><td>04050743                              </td><td>66                                    </td><td>149995                                </td><td>사이즈:옵션04.AN868_04 / 1개          </td><td>앵글로매니아                          </td><td>39000                                 </td><td>1                                     </td></tr>\n",
       "</tbody>\n",
       "</table>\n"
      ],
      "text/latex": [
       "\\begin{tabular}{r|llllllll}\n",
       " CLNT\\_ID & SESS\\_ID & HITS\\_SEQ & PD\\_C & PD\\_ADD\\_NM & PD\\_BRA\\_NM & PD\\_BUY\\_AM & PD\\_BUY\\_CT\\\\\n",
       "\\hline\n",
       "\t 4139680                                & 07605037                               & 12                                     & 642112                                 & 색상:워터멜론                          & {[}바비브라운{]}                       & 39000                                  & 1                                     \\\\\n",
       "\t 4140076                                            & 10189797                                           & 13                                                 & 570603                                             & 색상:BLK0\\_(BLK0)BLACK\\textbar{}사이즈:120 / 2개 & 데상트                                             & 39000                                              & 2                                                 \\\\\n",
       "\t 4142395                                & 06158159                               & 85                                     & 179538                                 & (not set)                              & {[}아베다{]}                           & 39000                                  & 1                                     \\\\\n",
       "\t 4144914                                                           & 07935714                                                          & 12                                                                & 554336                                                            & 색상:블랙\\textbar{}사이즈:160cm(12\\textasciitilde{}13세) / 1개  & 아디다스 키즈                                                     & 39000                                                             & 1                                                                \\\\\n",
       "\t 4144917                                & 06406509                               & 78                                     & 190306                                 & 5개                                    & 데코르테                               & 39000                                  & 5                                     \\\\\n",
       "\t 4147643                                  & 04050743                                 & 66                                       & 149995                                   & 사이즈:옵션04.AN868\\_04 / 1개           & 앵글로매니아                             & 39000                                    & 1                                       \\\\\n",
       "\\end{tabular}\n"
      ],
      "text/markdown": [
       "\n",
       "CLNT_ID | SESS_ID | HITS_SEQ | PD_C | PD_ADD_NM | PD_BRA_NM | PD_BUY_AM | PD_BUY_CT | \n",
       "|---|---|---|---|---|---|\n",
       "| 4139680                                | 07605037                               | 12                                     | 642112                                 | 색상:워터멜론                          | [바비브라운]                           | 39000                                  | 1                                      | \n",
       "| 4140076                                | 10189797                               | 13                                     | 570603                                 | 색상:BLK0_(BLK0)BLACK|사이즈:120 / 2개 | 데상트                                 | 39000                                  | 2                                      | \n",
       "| 4142395                                | 06158159                               | 85                                     | 179538                                 | (not set)                              | [아베다]                               | 39000                                  | 1                                      | \n",
       "| 4144914                                | 07935714                               | 12                                     | 554336                                 | 색상:블랙|사이즈:160cm(12~13세) / 1개  | 아디다스 키즈                          | 39000                                  | 1                                      | \n",
       "| 4144917                                | 06406509                               | 78                                     | 190306                                 | 5개                                    | 데코르테                               | 39000                                  | 5                                      | \n",
       "| 4147643                                | 04050743                               | 66                                     | 149995                                 | 사이즈:옵션04.AN868_04 / 1개           | 앵글로매니아                           | 39000                                  | 1                                      | \n",
       "\n",
       "\n"
      ],
      "text/plain": [
       "  CLNT_ID SESS_ID  HITS_SEQ PD_C   PD_ADD_NM                             \n",
       "1 4139680 07605037 12       642112 색상:워터멜론                         \n",
       "2 4140076 10189797 13       570603 색상:BLK0_(BLK0)BLACK|사이즈:120 / 2개\n",
       "3 4142395 06158159 85       179538 (not set)                             \n",
       "4 4144914 07935714 12       554336 색상:블랙|사이즈:160cm(12~13세) / 1개 \n",
       "5 4144917 06406509 78       190306 5개                                   \n",
       "6 4147643 04050743 66       149995 사이즈:옵션04.AN868_04 / 1개          \n",
       "  PD_BRA_NM     PD_BUY_AM PD_BUY_CT\n",
       "1 [바비브라운]  39000     1        \n",
       "2 데상트        39000     2        \n",
       "3 [아베다]      39000     1        \n",
       "4 아디다스 키즈 39000     1        \n",
       "5 데코르테      39000     5        \n",
       "6 앵글로매니아  39000     1        "
      ]
     },
     "metadata": {},
     "output_type": "display_data"
    }
   ],
   "source": [
    "library(plyr)\n",
    "tmp2 <- count(tmp[tmp$group == \"B\", ], \"chr\")\n",
    "tmp2$prop <- tmp2$freq / sum(tmp2$freq)\n",
    "tmp2$group <- NA\n",
    "tmp2$group <- \"A\"\n",
    "\n",
    "tmp3 <- count(tmp[tmp$group == \"A\", ], \"chr\")\n",
    "tmp3$prop <- tmp3$freq / sum(tmp3$freq)\n",
    "tmp3$group <- NA\n",
    "tmp3$group <- \"B\"\n",
    "\n",
    "tmp4 <- rbind(tmp2, tmp3)\n",
    "\n",
    "ggplot(tmp4, aes(chr, prop, col = group)) +\n",
    "  geom_line()\n",
    "\n",
    "# prop.test()"
   ]
  }
 ],
 "metadata": {
  "kernelspec": {
   "display_name": "R",
   "language": "R",
   "name": "ir"
  },
  "language_info": {
   "codemirror_mode": "r",
   "file_extension": ".r",
   "mimetype": "text/x-r-source",
   "name": "R",
   "pygments_lexer": "r",
   "version": "3.4.3"
  }
 },
 "nbformat": 4,
 "nbformat_minor": 2
}
